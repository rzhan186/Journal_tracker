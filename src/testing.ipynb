{
 "cells": [
  {
   "cell_type": "code",
   "execution_count": 4,
   "id": "7df692dd",
   "metadata": {},
   "outputs": [
    {
     "name": "stdout",
     "output_type": "stream",
     "text": [
      "2025-06-26 17:06:21.674176\n"
     ]
    }
   ],
   "source": [
    "# import modules\n",
    "from datetime import datetime\n",
    "from Bio import Entrez\n",
    "from calendar import monthrange\n",
    "import pandas as pd\n",
    "import re\n",
    "import requests\n",
    "import json\n",
    "\n",
    "# Set Entrez email\n",
    "\n",
    "######################################################################\n",
    "\n",
    "today = datetime.today()\n",
    "print(today)"
   ]
  },
  {
   "cell_type": "code",
   "execution_count": null,
   "id": "258f9291",
   "metadata": {},
   "outputs": [],
   "source": []
  },
  {
   "cell_type": "code",
   "execution_count": 5,
   "id": "215684b4",
   "metadata": {},
   "outputs": [],
   "source": [
    "def validate_date_input(date_str):\n",
    "    \"\"\"Validates user input for YYYY-MM or YYYY-MM-DD format.\"\"\"\n",
    "    pattern = r\"^\\d{4}-(0[1-9]|1[0-2])(-([0-2][0-9]|3[01]))?$\"  # Matches YYYY-MM or YYYY-MM-DD\n",
    "    return bool(re.match(pattern, date_str))\n",
    "\n",
    "\n",
    "def validate_dates(start_date, end_date, today):\n",
    "\n",
    "    today = datetime.today()\n",
    "\n",
    "    \"\"\"Validates the start and end date formats and order.\"\"\"\n",
    "\n",
    "    if not start_date:\n",
    "        return\n",
    "    \n",
    "    if not validate_date_input(start_date):\n",
    "        raise ValueError(\"❌ Invalid format! Dates must be in YYYY-MM or YYYY-MM-DD format (e.g., 2024-01 or 2024-01-15).\")\n",
    "\n",
    "    if not validate_date_input(end_date):\n",
    "        raise ValueError(\"❌ Invalid format! Dates must be in YYYY-MM or YYYY-MM-DD format (e.g., 2024-01 or 2024-01-15).\")\n",
    "    \n",
    "    if start_date > end_date:\n",
    "        raise ValueError(\"❌ Start date cannot be later than end date.\")\n",
    "\n",
    "    if start_date > today.strftime('%Y-%m-%d'):\n",
    "        raise ValueError(\"❌ Start date cannot be later than the current date\")\n",
    "\n",
    "    if end_date > today.strftime(\"%Y-%m-%d\"):\n",
    "        raise ValueError(\"❌ End date cannot be later than the current date\")\n",
    "    \n"
   ]
  },
  {
   "cell_type": "code",
   "execution_count": 6,
   "id": "64b4432d",
   "metadata": {},
   "outputs": [
    {
     "name": "stdout",
     "output_type": "stream",
     "text": [
      "🔍 PubMed Query:\n",
      "\"Environ Sci Technol\"[Journal] AND (\"2024/01/01\"[Date - Publication] : \"2024/03/31\"[Date - Publication]) AND (\"journal article\"[Publication Type] OR \"review\"[Publication Type]) NOT (\"news\"[Publication Type] OR \"comment\"[Publication Type] OR \"editorial\"[Publication Type]) AND (( climat*[Title/Abstract] OR \"global warming\"[Title/Abstract] ) AND ( mercury[Title/Abstract] OR pollution[Title/Abstract] ))\n"
     ]
    }
   ],
   "source": [
    "from tracking_main import build_pubmed_query\n",
    "from tracking_main import format_boolean_keywords_for_pubmed  # if you’re formatting keywords\n",
    "\n",
    "# Example inputs\n",
    "journal = \"Environ Sci Technol\"\n",
    "start_date = \"2024/01/01\"\n",
    "end_date = \"2024/03/31\"\n",
    "raw_keywords = '(climat* OR \"global warming\") AND (mercury OR pollution)'\n",
    "\n",
    "# Optional: format the keyword logic\n",
    "formatted_keywords = format_boolean_keywords_for_pubmed(raw_keywords)\n",
    "\n",
    "# Build the full query\n",
    "query = build_pubmed_query(journal, start_date, end_date, formatted_keywords)\n",
    "\n",
    "# Print the result\n",
    "print(\"🔍 PubMed Query:\")\n",
    "print(query)\n"
   ]
  },
  {
   "cell_type": "code",
   "execution_count": 7,
   "id": "31707a19",
   "metadata": {},
   "outputs": [
    {
     "name": "stdout",
     "output_type": "stream",
     "text": [
      "C-i4CQ7cnVgeHWqyvrK3ObSiYi1DJNJQwxLraoL1DLU\n"
     ]
    }
   ],
   "source": [
    "import secrets \n",
    "\n",
    "secret_key = secrets.token_urlsafe(32)\n",
    "print(secret_key)"
   ]
  },
  {
   "cell_type": "code",
   "execution_count": 1,
   "id": "1d8c8479",
   "metadata": {},
   "outputs": [
    {
     "name": "stdout",
     "output_type": "stream",
     "text": [
      "Error: name 'Entrez' is not defined\n"
     ]
    }
   ],
   "source": [
    "# Test function you can run\n",
    "def test_lancet():\n",
    "    \"\"\"Quick test for Lancet journal\"\"\"\n",
    "    test_query = '\"Lancet\"[Journal] AND (\"2024/01/01\"[Date - Publication] : \"2024/12/31\"[Date - Publication])'\n",
    "    \n",
    "    try:\n",
    "        handle = Entrez.esearch(db=\"pubmed\", term=test_query, retmax=5)\n",
    "        record = Entrez.read(handle)\n",
    "        handle.close()\n",
    "        \n",
    "        print(f\"Found {len(record['IdList'])} Lancet articles in 2024\")\n",
    "        return len(record[\"IdList\"]) > 0\n",
    "    except Exception as e:\n",
    "        print(f\"Error: {e}\")\n",
    "        return False\n",
    "\n",
    "# Run this to test\n",
    "if __name__ == \"__main__\":\n",
    "    test_lancet()"
   ]
  },
  {
   "cell_type": "code",
   "execution_count": 3,
   "id": "0240e797",
   "metadata": {},
   "outputs": [
    {
     "data": {
      "text/plain": [
       "False"
      ]
     },
     "execution_count": 3,
     "metadata": {},
     "output_type": "execute_result"
    }
   ],
   "source": []
  },
  {
   "cell_type": "code",
   "execution_count": 8,
   "id": "1b84e8e4",
   "metadata": {},
   "outputs": [
    {
     "ename": "SupabaseException",
     "evalue": "supabase_url is required",
     "output_type": "error",
     "traceback": [
      "\u001b[31m---------------------------------------------------------------------------\u001b[39m",
      "\u001b[31mSupabaseException\u001b[39m                         Traceback (most recent call last)",
      "\u001b[36mCell\u001b[39m\u001b[36m \u001b[39m\u001b[32mIn[8]\u001b[39m\u001b[32m, line 7\u001b[39m\n\u001b[32m      4\u001b[39m url = os.getenv(\u001b[33m\"\u001b[39m\u001b[33mSUPABASE_URL\u001b[39m\u001b[33m\"\u001b[39m)\n\u001b[32m      5\u001b[39m key = os.getenv(\u001b[33m\"\u001b[39m\u001b[33mSUPABASE_KEY\u001b[39m\u001b[33m\"\u001b[39m)\n\u001b[32m----> \u001b[39m\u001b[32m7\u001b[39m supabase = \u001b[43mcreate_client\u001b[49m\u001b[43m(\u001b[49m\u001b[43murl\u001b[49m\u001b[43m,\u001b[49m\u001b[43m \u001b[49m\u001b[43mkey\u001b[49m\u001b[43m)\u001b[49m\n\u001b[32m      9\u001b[39m \u001b[38;5;66;03m# Replace 'your_table_name' with the actual table name\u001b[39;00m\n\u001b[32m     10\u001b[39m table_name = \u001b[33m'\u001b[39m\u001b[33msubscriptions\u001b[39m\u001b[33m'\u001b[39m\n",
      "\u001b[36mFile \u001b[39m\u001b[32m~/Documents/Jounal_tracker/.venv/lib/python3.13/site-packages/supabase/_sync/client.py:339\u001b[39m, in \u001b[36mcreate_client\u001b[39m\u001b[34m(supabase_url, supabase_key, options)\u001b[39m\n\u001b[32m    308\u001b[39m \u001b[38;5;28;01mdef\u001b[39;00m\u001b[38;5;250m \u001b[39m\u001b[34mcreate_client\u001b[39m(\n\u001b[32m    309\u001b[39m     supabase_url: \u001b[38;5;28mstr\u001b[39m,\n\u001b[32m    310\u001b[39m     supabase_key: \u001b[38;5;28mstr\u001b[39m,\n\u001b[32m    311\u001b[39m     options: Optional[ClientOptions] = \u001b[38;5;28;01mNone\u001b[39;00m,\n\u001b[32m    312\u001b[39m ) -> SyncClient:\n\u001b[32m    313\u001b[39m \u001b[38;5;250m    \u001b[39m\u001b[33;03m\"\"\"Create client function to instantiate supabase client like JS runtime.\u001b[39;00m\n\u001b[32m    314\u001b[39m \n\u001b[32m    315\u001b[39m \u001b[33;03m    Parameters\u001b[39;00m\n\u001b[32m   (...)\u001b[39m\u001b[32m    337\u001b[39m \u001b[33;03m    Client\u001b[39;00m\n\u001b[32m    338\u001b[39m \u001b[33;03m    \"\"\"\u001b[39;00m\n\u001b[32m--> \u001b[39m\u001b[32m339\u001b[39m     \u001b[38;5;28;01mreturn\u001b[39;00m \u001b[43mSyncClient\u001b[49m\u001b[43m.\u001b[49m\u001b[43mcreate\u001b[49m\u001b[43m(\u001b[49m\n\u001b[32m    340\u001b[39m \u001b[43m        \u001b[49m\u001b[43msupabase_url\u001b[49m\u001b[43m=\u001b[49m\u001b[43msupabase_url\u001b[49m\u001b[43m,\u001b[49m\u001b[43m \u001b[49m\u001b[43msupabase_key\u001b[49m\u001b[43m=\u001b[49m\u001b[43msupabase_key\u001b[49m\u001b[43m,\u001b[49m\u001b[43m \u001b[49m\u001b[43moptions\u001b[49m\u001b[43m=\u001b[49m\u001b[43moptions\u001b[49m\n\u001b[32m    341\u001b[39m \u001b[43m    \u001b[49m\u001b[43m)\u001b[49m\n",
      "\u001b[36mFile \u001b[39m\u001b[32m~/Documents/Jounal_tracker/.venv/lib/python3.13/site-packages/supabase/_sync/client.py:103\u001b[39m, in \u001b[36mSyncClient.create\u001b[39m\u001b[34m(cls, supabase_url, supabase_key, options)\u001b[39m\n\u001b[32m     95\u001b[39m \u001b[38;5;129m@classmethod\u001b[39m\n\u001b[32m     96\u001b[39m \u001b[38;5;28;01mdef\u001b[39;00m\u001b[38;5;250m \u001b[39m\u001b[34mcreate\u001b[39m(\n\u001b[32m     97\u001b[39m     \u001b[38;5;28mcls\u001b[39m,\n\u001b[32m   (...)\u001b[39m\u001b[32m    100\u001b[39m     options: Optional[ClientOptions] = \u001b[38;5;28;01mNone\u001b[39;00m,\n\u001b[32m    101\u001b[39m ):\n\u001b[32m    102\u001b[39m     auth_header = options.headers.get(\u001b[33m\"\u001b[39m\u001b[33mAuthorization\u001b[39m\u001b[33m\"\u001b[39m) \u001b[38;5;28;01mif\u001b[39;00m options \u001b[38;5;28;01melse\u001b[39;00m \u001b[38;5;28;01mNone\u001b[39;00m\n\u001b[32m--> \u001b[39m\u001b[32m103\u001b[39m     client = \u001b[38;5;28;43mcls\u001b[39;49m\u001b[43m(\u001b[49m\u001b[43msupabase_url\u001b[49m\u001b[43m,\u001b[49m\u001b[43m \u001b[49m\u001b[43msupabase_key\u001b[49m\u001b[43m,\u001b[49m\u001b[43m \u001b[49m\u001b[43moptions\u001b[49m\u001b[43m)\u001b[49m\n\u001b[32m    105\u001b[39m     \u001b[38;5;28;01mif\u001b[39;00m auth_header \u001b[38;5;129;01mis\u001b[39;00m \u001b[38;5;28;01mNone\u001b[39;00m:\n\u001b[32m    106\u001b[39m         \u001b[38;5;28;01mtry\u001b[39;00m:\n",
      "\u001b[36mFile \u001b[39m\u001b[32m~/Documents/Jounal_tracker/.venv/lib/python3.13/site-packages/supabase/_sync/client.py:52\u001b[39m, in \u001b[36mSyncClient.__init__\u001b[39m\u001b[34m(self, supabase_url, supabase_key, options)\u001b[39m\n\u001b[32m     38\u001b[39m \u001b[38;5;250m\u001b[39m\u001b[33;03m\"\"\"Instantiate the client.\u001b[39;00m\n\u001b[32m     39\u001b[39m \n\u001b[32m     40\u001b[39m \u001b[33;03mParameters\u001b[39;00m\n\u001b[32m   (...)\u001b[39m\u001b[32m     48\u001b[39m \u001b[33;03m    `DEFAULT_OPTIONS` dict.\u001b[39;00m\n\u001b[32m     49\u001b[39m \u001b[33;03m\"\"\"\u001b[39;00m\n\u001b[32m     51\u001b[39m \u001b[38;5;28;01mif\u001b[39;00m \u001b[38;5;129;01mnot\u001b[39;00m supabase_url:\n\u001b[32m---> \u001b[39m\u001b[32m52\u001b[39m     \u001b[38;5;28;01mraise\u001b[39;00m SupabaseException(\u001b[33m\"\u001b[39m\u001b[33msupabase_url is required\u001b[39m\u001b[33m\"\u001b[39m)\n\u001b[32m     53\u001b[39m \u001b[38;5;28;01mif\u001b[39;00m \u001b[38;5;129;01mnot\u001b[39;00m supabase_key:\n\u001b[32m     54\u001b[39m     \u001b[38;5;28;01mraise\u001b[39;00m SupabaseException(\u001b[33m\"\u001b[39m\u001b[33msupabase_key is required\u001b[39m\u001b[33m\"\u001b[39m)\n",
      "\u001b[31mSupabaseException\u001b[39m: supabase_url is required"
     ]
    }
   ],
   "source": []
  }
 ],
 "metadata": {
  "kernelspec": {
   "display_name": ".venv",
   "language": "python",
   "name": "python3"
  },
  "language_info": {
   "codemirror_mode": {
    "name": "ipython",
    "version": 3
   },
   "file_extension": ".py",
   "mimetype": "text/x-python",
   "name": "python",
   "nbconvert_exporter": "python",
   "pygments_lexer": "ipython3",
   "version": "3.13.0"
  }
 },
 "nbformat": 4,
 "nbformat_minor": 5
}
