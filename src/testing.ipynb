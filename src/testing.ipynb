{
 "cells": [
  {
   "cell_type": "code",
   "execution_count": 2,
   "id": "7df692dd",
   "metadata": {},
   "outputs": [
    {
     "name": "stdout",
     "output_type": "stream",
     "text": [
      "2025-06-19 23:10:28.120980\n"
     ]
    }
   ],
   "source": [
    "# import modules\n",
    "from datetime import datetime\n",
    "from Bio import Entrez\n",
    "from calendar import monthrange\n",
    "import pandas as pd\n",
    "import re\n",
    "import requests\n",
    "import json\n",
    "\n",
    "# Set Entrez email\n",
    "\n",
    "######################################################################\n",
    "\n",
    "today = datetime.today()\n",
    "print(today)"
   ]
  },
  {
   "cell_type": "code",
   "execution_count": null,
   "id": "215684b4",
   "metadata": {},
   "outputs": [],
   "source": [
    "def validate_date_input(date_str):\n",
    "    \"\"\"Validates user input for YYYY-MM or YYYY-MM-DD format.\"\"\"\n",
    "    pattern = r\"^\\d{4}-(0[1-9]|1[0-2])(-([0-2][0-9]|3[01]))?$\"  # Matches YYYY-MM or YYYY-MM-DD\n",
    "    return bool(re.match(pattern, date_str))\n",
    "\n",
    "\n",
    "def validate_dates(start_date, end_date, today):\n",
    "\n",
    "    today = datetime.today()\n",
    "\n",
    "    \"\"\"Validates the start and end date formats and order.\"\"\"\n",
    "\n",
    "    if not start_date:\n",
    "        return\n",
    "    \n",
    "    if not validate_date_input(start_date):\n",
    "        raise ValueError(\"❌ Invalid format! Dates must be in YYYY-MM or YYYY-MM-DD format (e.g., 2024-01 or 2024-01-15).\")\n",
    "\n",
    "    if not validate_date_input(end_date):\n",
    "        raise ValueError(\"❌ Invalid format! Dates must be in YYYY-MM or YYYY-MM-DD format (e.g., 2024-01 or 2024-01-15).\")\n",
    "    \n",
    "    if start_date > end_date:\n",
    "        raise ValueError(\"❌ Start date cannot be later than end date.\")\n",
    "\n",
    "    if start_date > today.strftime('%Y-%m-%d'):\n",
    "        raise ValueError(\"❌ Start date cannot be later than the current date\")\n",
    "\n",
    "    if end_date > today.strftime(\"%Y-%m-%d\"):\n",
    "        raise ValueError(\"❌ End date cannot be later than the current date\")\n",
    "    \n"
   ]
  }
 ],
 "metadata": {
  "kernelspec": {
   "display_name": ".venv",
   "language": "python",
   "name": "python3"
  },
  "language_info": {
   "codemirror_mode": {
    "name": "ipython",
    "version": 3
   },
   "file_extension": ".py",
   "mimetype": "text/x-python",
   "name": "python",
   "nbconvert_exporter": "python",
   "pygments_lexer": "ipython3",
   "version": "3.13.0"
  }
 },
 "nbformat": 4,
 "nbformat_minor": 5
}
