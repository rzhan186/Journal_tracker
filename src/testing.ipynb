{
 "cells": [
  {
   "cell_type": "code",
   "execution_count": 4,
   "id": "7df692dd",
   "metadata": {},
   "outputs": [
    {
     "name": "stdout",
     "output_type": "stream",
     "text": [
      "2025-06-26 17:06:21.674176\n"
     ]
    }
   ],
   "source": [
    "# import modules\n",
    "from datetime import datetime\n",
    "from Bio import Entrez\n",
    "from calendar import monthrange\n",
    "import pandas as pd\n",
    "import re\n",
    "import requests\n",
    "import json\n",
    "\n",
    "# Set Entrez email\n",
    "\n",
    "######################################################################\n",
    "\n",
    "today = datetime.today()\n",
    "print(today)"
   ]
  },
  {
   "cell_type": "code",
   "execution_count": 5,
   "id": "215684b4",
   "metadata": {},
   "outputs": [],
   "source": [
    "def validate_date_input(date_str):\n",
    "    \"\"\"Validates user input for YYYY-MM or YYYY-MM-DD format.\"\"\"\n",
    "    pattern = r\"^\\d{4}-(0[1-9]|1[0-2])(-([0-2][0-9]|3[01]))?$\"  # Matches YYYY-MM or YYYY-MM-DD\n",
    "    return bool(re.match(pattern, date_str))\n",
    "\n",
    "\n",
    "def validate_dates(start_date, end_date, today):\n",
    "\n",
    "    today = datetime.today()\n",
    "\n",
    "    \"\"\"Validates the start and end date formats and order.\"\"\"\n",
    "\n",
    "    if not start_date:\n",
    "        return\n",
    "    \n",
    "    if not validate_date_input(start_date):\n",
    "        raise ValueError(\"❌ Invalid format! Dates must be in YYYY-MM or YYYY-MM-DD format (e.g., 2024-01 or 2024-01-15).\")\n",
    "\n",
    "    if not validate_date_input(end_date):\n",
    "        raise ValueError(\"❌ Invalid format! Dates must be in YYYY-MM or YYYY-MM-DD format (e.g., 2024-01 or 2024-01-15).\")\n",
    "    \n",
    "    if start_date > end_date:\n",
    "        raise ValueError(\"❌ Start date cannot be later than end date.\")\n",
    "\n",
    "    if start_date > today.strftime('%Y-%m-%d'):\n",
    "        raise ValueError(\"❌ Start date cannot be later than the current date\")\n",
    "\n",
    "    if end_date > today.strftime(\"%Y-%m-%d\"):\n",
    "        raise ValueError(\"❌ End date cannot be later than the current date\")\n",
    "    \n"
   ]
  },
  {
   "cell_type": "code",
   "execution_count": 6,
   "id": "64b4432d",
   "metadata": {},
   "outputs": [
    {
     "name": "stdout",
     "output_type": "stream",
     "text": [
      "🔍 PubMed Query:\n",
      "\"Environ Sci Technol\"[Journal] AND (\"2024/01/01\"[Date - Publication] : \"2024/03/31\"[Date - Publication]) AND (\"journal article\"[Publication Type] OR \"review\"[Publication Type]) NOT (\"news\"[Publication Type] OR \"comment\"[Publication Type] OR \"editorial\"[Publication Type]) AND (( climat*[Title/Abstract] OR \"global warming\"[Title/Abstract] ) AND ( mercury[Title/Abstract] OR pollution[Title/Abstract] ))\n"
     ]
    }
   ],
   "source": [
    "from tracking_main import build_pubmed_query\n",
    "from tracking_main import format_boolean_keywords_for_pubmed  # if you’re formatting keywords\n",
    "\n",
    "# Example inputs\n",
    "journal = \"Environ Sci Technol\"\n",
    "start_date = \"2024/01/01\"\n",
    "end_date = \"2024/03/31\"\n",
    "raw_keywords = '(climat* OR \"global warming\") AND (mercury OR pollution)'\n",
    "\n",
    "# Optional: format the keyword logic\n",
    "formatted_keywords = format_boolean_keywords_for_pubmed(raw_keywords)\n",
    "\n",
    "# Build the full query\n",
    "query = build_pubmed_query(journal, start_date, end_date, formatted_keywords)\n",
    "\n",
    "# Print the result\n",
    "print(\"🔍 PubMed Query:\")\n",
    "print(query)\n"
   ]
  },
  {
   "cell_type": "code",
   "execution_count": 7,
   "id": "31707a19",
   "metadata": {},
   "outputs": [
    {
     "name": "stdout",
     "output_type": "stream",
     "text": [
      "C-i4CQ7cnVgeHWqyvrK3ObSiYi1DJNJQwxLraoL1DLU\n"
     ]
    }
   ],
   "source": [
    "import secrets \n",
    "\n",
    "secret_key = secrets.token_urlsafe(32)\n",
    "print(secret_key)"
   ]
  }
 ],
 "metadata": {
  "kernelspec": {
   "display_name": ".venv",
   "language": "python",
   "name": "python3"
  },
  "language_info": {
   "codemirror_mode": {
    "name": "ipython",
    "version": 3
   },
   "file_extension": ".py",
   "mimetype": "text/x-python",
   "name": "python",
   "nbconvert_exporter": "python",
   "pygments_lexer": "ipython3",
   "version": "3.13.0"
  }
 },
 "nbformat": 4,
 "nbformat_minor": 5
}
