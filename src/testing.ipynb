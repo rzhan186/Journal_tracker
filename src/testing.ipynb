{
 "cells": [
  {
   "cell_type": "code",
   "execution_count": 6,
   "id": "7df692dd",
   "metadata": {},
   "outputs": [
    {
     "name": "stdout",
     "output_type": "stream",
     "text": [
      "2025-06-21 14:03:02.038571\n"
     ]
    }
   ],
   "source": [
    "# import modules\n",
    "from datetime import datetime\n",
    "from Bio import Entrez\n",
    "from calendar import monthrange\n",
    "import pandas as pd\n",
    "import re\n",
    "import requests\n",
    "import json\n",
    "\n",
    "# Set Entrez email\n",
    "\n",
    "######################################################################\n",
    "\n",
    "today = datetime.today()\n",
    "print(today)"
   ]
  },
  {
   "cell_type": "code",
   "execution_count": 7,
   "id": "215684b4",
   "metadata": {},
   "outputs": [],
   "source": [
    "def validate_date_input(date_str):\n",
    "    \"\"\"Validates user input for YYYY-MM or YYYY-MM-DD format.\"\"\"\n",
    "    pattern = r\"^\\d{4}-(0[1-9]|1[0-2])(-([0-2][0-9]|3[01]))?$\"  # Matches YYYY-MM or YYYY-MM-DD\n",
    "    return bool(re.match(pattern, date_str))\n",
    "\n",
    "\n",
    "def validate_dates(start_date, end_date, today):\n",
    "\n",
    "    today = datetime.today()\n",
    "\n",
    "    \"\"\"Validates the start and end date formats and order.\"\"\"\n",
    "\n",
    "    if not start_date:\n",
    "        return\n",
    "    \n",
    "    if not validate_date_input(start_date):\n",
    "        raise ValueError(\"❌ Invalid format! Dates must be in YYYY-MM or YYYY-MM-DD format (e.g., 2024-01 or 2024-01-15).\")\n",
    "\n",
    "    if not validate_date_input(end_date):\n",
    "        raise ValueError(\"❌ Invalid format! Dates must be in YYYY-MM or YYYY-MM-DD format (e.g., 2024-01 or 2024-01-15).\")\n",
    "    \n",
    "    if start_date > end_date:\n",
    "        raise ValueError(\"❌ Start date cannot be later than end date.\")\n",
    "\n",
    "    if start_date > today.strftime('%Y-%m-%d'):\n",
    "        raise ValueError(\"❌ Start date cannot be later than the current date\")\n",
    "\n",
    "    if end_date > today.strftime(\"%Y-%m-%d\"):\n",
    "        raise ValueError(\"❌ End date cannot be later than the current date\")\n",
    "    \n"
   ]
  },
  {
   "cell_type": "code",
   "execution_count": 8,
   "id": "64b4432d",
   "metadata": {},
   "outputs": [
    {
     "name": "stdout",
     "output_type": "stream",
     "text": [
      "⚠️ No local file found. Fetching data from PubMed...\n",
      "🔍 Fetching the latest journal abbreviations from PubMed...\n",
      "✅ Successfully fetched from primary URL.\n",
      "✅ Journal abbreviations saved to the directory pubmed_journal_abbreviations.json\n",
      "✅ Found abbreviation. Using formatted abbreviation: Environ Sci Technol\n",
      "Date range used for query is from 2025-02-10 to 2025-02-12\n",
      "Fetching articles from Environ Sci Technol published between 2025-02-10 and 2025-02-12...\n",
      "Fetched article IDs, proceeding to fetch article details...\n",
      "✅ 22 papers found.\n",
      "Fetching details for article 1 of 22 (PMID: 39933181)...\n",
      "✅ Fetched details for article 1: The Associations of Short-Term Ambient Nitrogen Dioxide Pollution with Major Cause-Specific Morbidities and the Modifying Effects by Ambient Temperature: A Nationwide Case-Crossover Study.\n",
      "Fetching details for article 2 of 22 (PMID: 39937719)...\n",
      "✅ Fetched details for article 2: Mapping Source-Specific Air Pollution Exposures Using Positive Matrix Factorization Applied to Multipollutant Mobile Monitoring in Seattle, WA.\n",
      "Fetching details for article 3 of 22 (PMID: 39935184)...\n",
      "✅ Fetched details for article 3: Chlorine-Tolerant Chlorobenzene Combustion over Mullite Catalysts via <i>In Situ</i> Constructing Ru-O-Mn Sites.\n",
      "Fetching details for article 4 of 22 (PMID: 39933077)...\n",
      "✅ Fetched details for article 4: Exploring Photochemical Conversion of NO<sub>2</sub> to HONO on N-Heterocycles: Unique Variation Trend of Gases, Kinetics, and Mechanism.\n",
      "Fetching details for article 5 of 22 (PMID: 39933038)...\n",
      "✅ Fetched details for article 5: Utilizing Curtailed Wind and Solar Power to Scale Up Electrolytic Hydrogen Production in Europe.\n",
      "Fetching details for article 6 of 22 (PMID: 39932511)...\n",
      "✅ Fetched details for article 6: Forest Wildfire Increases the Seasonal Allocation of Soil Labile Carbon Fractions Due to the Transition from Microbial K- to r-Strategists.\n",
      "Fetching details for article 7 of 22 (PMID: 39928392)...\n",
      "✅ Fetched details for article 7: Carbonation of MgO Single Crystals: Implications for Direct Air Capture of CO<sub>2</sub>.\n",
      "Fetching details for article 8 of 22 (PMID: 39895066)...\n",
      "✅ Fetched details for article 8: Global Atmospheric Composition Effects from Marine Isoprene Emissions.\n",
      "Fetching details for article 9 of 22 (PMID: 39895053)...\n",
      "✅ Fetched details for article 9: Warming Promotes Nitrogen and Carbon Cycles in Global Grassland.\n",
      "Fetching details for article 10 of 22 (PMID: 39893673)...\n",
      "✅ Fetched details for article 10: Ice Nucleation Abilities and Chemical Characteristics of Laboratory-Generated and Aged Biomass Burning Aerosols.\n",
      "Fetching details for article 11 of 22 (PMID: 39887320)...\n",
      "✅ Fetched details for article 11: Forty-Year Time Series of Anthropogenic Uranium in <i>Fucus vesiculosus</i> from Kattegat: Validating <sup>236</sup>U Releases from European Nuclear Reprocessing Plants.\n",
      "Fetching details for article 12 of 22 (PMID: 39884963)...\n",
      "✅ Fetched details for article 12: Recent Advances of Gaseous Pollutant Catalytic Oxidation over Precious Metal Catalysts with SO<sub>2</sub> Exposure.\n",
      "Fetching details for article 13 of 22 (PMID: 39883950)...\n",
      "✅ Fetched details for article 13: Scant Evidence for Long-Range Atmospheric Transport of Particle-Bound Benzotriazole Ultraviolet Stabilizers.\n",
      "Fetching details for article 14 of 22 (PMID: 39882794)...\n",
      "✅ Fetched details for article 14: Wildfire Smoke Contributions to Polycyclic Aromatic Hydrocarbon Loadings in Western Canadian Urban Surface Grime.\n",
      "Fetching details for article 15 of 22 (PMID: 39881604)...\n",
      "✅ Fetched details for article 15: Per- and Polyfluoroalkyl Substances and Twin Growth Discordance: New Insights from a Twin Birth Cohort Study.\n",
      "Fetching details for article 16 of 22 (PMID: 39878342)...\n",
      "✅ Fetched details for article 16: Satellite Observations of Atmospheric Ammonia Inequalities Associated with Industrialized Swine Facilities in Eastern North Carolina.\n",
      "Fetching details for article 17 of 22 (PMID: 39874536)...\n",
      "✅ Fetched details for article 17: Contaminant-Associated Disruption of the Skin Transcriptome in the Endangered St. Lawrence Estuary Beluga.\n",
      "Fetching details for article 18 of 22 (PMID: 39873532)...\n",
      "✅ Fetched details for article 18: A Scalable Calibration Method for Enhanced Accuracy in Dense Air Quality Monitoring Networks.\n",
      "Fetching details for article 19 of 22 (PMID: 39871117)...\n",
      "✅ Fetched details for article 19: Exploring the Chemical Complexity and Sources of Airborne Fine Particulate Matter in East Asia by Nontarget Analysis and Multivariate Modeling.\n",
      "Fetching details for article 20 of 22 (PMID: 39854287)...\n",
      "✅ Fetched details for article 20: Effects of Low-Severity Fire on the Composition and Stability of Soil Organic Carbon in Permafrost Peatlands (Northeast China).\n",
      "Fetching details for article 21 of 22 (PMID: 39815724)...\n",
      "✅ Fetched details for article 21: Improved Mechanistic Modeling on Reproducing Particle-Bound Mercury in the Marine Atmosphere.\n",
      "Fetching details for article 22 of 22 (PMID: 39772473)...\n",
      "✅ Fetched details for article 22: Nontargeted Screening Nitrogen-Containing Organic Compounds in Frost and Wet Deposition in Rural Northeast China.\n",
      "😊 All articles have been fetched successfully.\n",
      "🔍 PubMed Query:\n",
      "\"Environ Sci Technol\"[Journal] AND (\"2024/01/01\"[Date - Publication] : \"2024/03/31\"[Date - Publication]) AND (\"journal article\"[Publication Type] OR \"review\"[Publication Type]) NOT (\"news\"[Publication Type] OR \"comment\"[Publication Type] OR \"editorial\"[Publication Type]) AND (( climat*[Title/Abstract] OR \"global warming\"[Title/Abstract] ) AND ( mercury[Title/Abstract] OR pollution[Title/Abstract] ))\n"
     ]
    }
   ],
   "source": [
    "from tracking_main import build_pubmed_query\n",
    "from tracking_main import format_boolean_keywords_for_pubmed  # if you’re formatting keywords\n",
    "\n",
    "# Example inputs\n",
    "journal = \"Environ Sci Technol\"\n",
    "start_date = \"2024/01/01\"\n",
    "end_date = \"2024/03/31\"\n",
    "raw_keywords = '(climat* OR \"global warming\") AND (mercury OR pollution)'\n",
    "\n",
    "# Optional: format the keyword logic\n",
    "formatted_keywords = format_boolean_keywords_for_pubmed(raw_keywords)\n",
    "\n",
    "# Build the full query\n",
    "query = build_pubmed_query(journal, start_date, end_date, formatted_keywords)\n",
    "\n",
    "# Print the result\n",
    "print(\"🔍 PubMed Query:\")\n",
    "print(query)\n"
   ]
  }
 ],
 "metadata": {
  "kernelspec": {
   "display_name": ".venv",
   "language": "python",
   "name": "python3"
  },
  "language_info": {
   "codemirror_mode": {
    "name": "ipython",
    "version": 3
   },
   "file_extension": ".py",
   "mimetype": "text/x-python",
   "name": "python",
   "nbconvert_exporter": "python",
   "pygments_lexer": "ipython3",
   "version": "3.13.0"
  }
 },
 "nbformat": 4,
 "nbformat_minor": 5
}
